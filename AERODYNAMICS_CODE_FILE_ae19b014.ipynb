{
  "nbformat": 4,
  "nbformat_minor": 0,
  "metadata": {
    "colab": {
      "name": "AERODYNAMICS_CODE_FILE_ae19b014.ipynb",
      "provenance": [],
      "collapsed_sections": []
    },
    "kernelspec": {
      "name": "python3",
      "display_name": "Python 3"
    },
    "language_info": {
      "name": "python"
    }
  },
  "cells": [
    {
      "cell_type": "code",
      "metadata": {
        "id": "-jg2I2NvPN-q"
      },
      "source": [
        "# written using google colaboratory (Python3 kernel)\n",
        "import math\n",
        "import numpy as np"
      ],
      "execution_count": 1,
      "outputs": []
    },
    {
      "cell_type": "code",
      "metadata": {
        "id": "kKcZp2VhPQHf"
      },
      "source": [
        "#finding the coordinates of the ends of panels\n",
        "n = 100\n",
        "theta = []\n",
        "x_end = []\n",
        "y_end = []\n",
        "for k in range(n):\n",
        "  theta.append(2*(k+1)*math.pi/float(n)- math.pi/float(n))\n",
        "  x_end.append(round(math.cos(2*(k+1)*math.pi/float(n) - math.pi/float(n)), 3))\n",
        "  y_end.append(round(math.sin(2*(k+1)*math.pi/float(n) - math.pi/float(n)), 3))"
      ],
      "execution_count": 2,
      "outputs": []
    },
    {
      "cell_type": "code",
      "metadata": {
        "id": "Ovv12lqoPU5e"
      },
      "source": [
        "#length of each panel\n",
        "Sj = 2*math.sin(math.pi/n)"
      ],
      "execution_count": 3,
      "outputs": []
    },
    {
      "cell_type": "code",
      "metadata": {
        "id": "evE583BBPyUv"
      },
      "source": [
        "# theta of control points\n",
        "theta_cp = 0.5*np.array(theta[1:] + [2*math.pi + theta[0]]) + 0.5*np.array(theta)"
      ],
      "execution_count": 4,
      "outputs": []
    },
    {
      "cell_type": "code",
      "metadata": {
        "id": "3zTh3RinP5y_"
      },
      "source": [
        "#control points\n",
        "x_cp = (np.array(x_end[:-1]) + np.array(x_end[1:]))/2\n",
        "x_cp = np.append(x_cp, (x_end[n-1] + x_end[0])/2)\n",
        "y_cp = (np.array(y_end[:-1]) + np.array(y_end[1:]))/2\n",
        "y_cp = np.append(y_cp, (y_end[n-1] + y_end[0])/2)"
      ],
      "execution_count": 5,
      "outputs": []
    },
    {
      "cell_type": "code",
      "metadata": {
        "id": "MuVGLcD0QtOS"
      },
      "source": [
        "v_inf_x = 1 #taking v_inf as unity along the x direction\n",
        "v_inf_y = 0"
      ],
      "execution_count": 6,
      "outputs": []
    },
    {
      "cell_type": "code",
      "metadata": {
        "id": "BEO1U_MKQyb5"
      },
      "source": [
        "#finding unit normal to each panel\n",
        "sn = np.zeros(n)\n",
        "delta_x = np.array(x_end[:-1]) - np.array(x_end[1:])\n",
        "delta_x = np.append(delta_x, x_end[n-1] - x_end[0])\n",
        "delta_y = np.array(y_end[1:]) - np.array(y_end[:-1])\n",
        "delta_y = np.append(delta_y, y_end[0] - y_end[n-1])\n",
        "for k in range(n):\n",
        "  if (delta_y[k] == 0):\n",
        "    sn[k] = math.inf\n",
        "  else:\n",
        "    sn[k] = delta_x[k]/delta_y[k]  \n",
        "nx = np.zeros(n) #x comp of normal vector\n",
        "ny = np.zeros(n) #y comp of normal vector\n",
        "for i in range(n):\n",
        "  if (x_cp[i] == 0):\n",
        "    ny[i] = y_cp[i]/abs(y_cp[i])\n",
        "  elif (y_cp[i] == 0):\n",
        "    nx[i] = x_cp[i]/abs(x_cp[i])  \n",
        "  else:\n",
        "    ny[i] = round(abs(math.sin(math.atan(sn[i])))*y_cp[i]/abs(y_cp[i]), 3)\n",
        "    nx[i] = round(abs(math.cos(math.atan(sn[i])))*x_cp[i]/abs(x_cp[i]), 3)"
      ],
      "execution_count": 7,
      "outputs": []
    },
    {
      "cell_type": "code",
      "metadata": {
        "id": "wjh6gru_SuZz"
      },
      "source": [
        "v_inf_n = v_inf_x*nx #normal component of freestream velocity"
      ],
      "execution_count": 8,
      "outputs": []
    },
    {
      "cell_type": "code",
      "metadata": {
        "id": "RWeCeiUWS3yx"
      },
      "source": [
        "import sympy as sym"
      ],
      "execution_count": 9,
      "outputs": []
    },
    {
      "cell_type": "code",
      "metadata": {
        "id": "VXY2kcFxdt_Z"
      },
      "source": [
        "a = np.zeros((n,n))\n",
        "x_end_plus = x_end[1:] + [x_end[0]]\n",
        "y_end_plus = y_end[1:] + [y_end[0]]"
      ],
      "execution_count": 10,
      "outputs": []
    },
    {
      "cell_type": "code",
      "metadata": {
        "id": "vjgGMNWNd3pl"
      },
      "source": [
        "# finding Iij\n",
        "for i in range(n):\n",
        "  for j in range(n):\n",
        "    if (i!=j):\n",
        "      Yj = y_end_plus[j]\n",
        "      Xj = x_end_plus[j]  \n",
        "      A = -(x_cp[i] - Xj)*ny[j] + (y_cp[i] - Yj)*nx[j]\n",
        "      B = (x_cp[i] - Xj)**2 + (y_cp[i] - Yj)**2\n",
        "      C = -nx[i]*ny[j] + ny[i]*nx[j]\n",
        "      D = (y_cp[i] - Yj)*ny[i] + (x_cp[i] - Xj)*nx[i]\n",
        "      E = -(x_cp[i] - Xj)*nx[j] - (y_cp[i] - Yj)*ny[j]\n",
        "      Iij = 0.5*C*math.log((Sj**2 + 2*A*Sj + B)/B) + (D - A*C)*(math.atan((Sj + A)/E) - math.atan(A/E))/E\n",
        "      a[i][j] = Iij/(2*math.pi)\n",
        "    else:\n",
        "      a[i][j] = 0.5  "
      ],
      "execution_count": 11,
      "outputs": []
    },
    {
      "cell_type": "code",
      "metadata": {
        "id": "UkzOpiDDuUKB"
      },
      "source": [
        "# solving the simultaneous linear equation system by matrix method\n",
        "strength = np.linalg.inv(np.array(a))@np.array(-v_inf_n) #X = A^-1*B\n",
        "#rounding off\n",
        "for i in range(n):\n",
        "  strength[i] = round(strength[i], 3)\n",
        "  if (n<=10):\n",
        "    print(\"THE STRENGTH/LENGTH OF SOURCE \", i+1, \" is: \", strength[i], \" m^2/s^2.\")"
      ],
      "execution_count": 12,
      "outputs": []
    },
    {
      "cell_type": "code",
      "metadata": {
        "colab": {
          "base_uri": "https://localhost:8080/"
        },
        "id": "92qzfb4y517V",
        "outputId": "1998c55e-aa60-47b1-d663-4dac23ad1153"
      },
      "source": [
        "# verification of sum of source strengths going to zero\n",
        "print(round(np.sum(strength), 3))"
      ],
      "execution_count": 13,
      "outputs": [
        {
          "output_type": "stream",
          "text": [
            "-0.0\n"
          ],
          "name": "stdout"
        }
      ]
    },
    {
      "cell_type": "code",
      "metadata": {
        "id": "rgs6cnrQ-RQ2"
      },
      "source": [
        "v_inf_t = v_inf_x*ny #tangential component of freestream velocity"
      ],
      "execution_count": 14,
      "outputs": []
    },
    {
      "cell_type": "code",
      "metadata": {
        "id": "5LuRtoLTCHV4"
      },
      "source": [
        "# finding tangential velocity at each control point\n",
        "v_t = np.zeros(n)\n",
        "for i in range(n):\n",
        "  sum = 0\n",
        "  for j in range(n):\n",
        "    if (i!=j):\n",
        "      Yj = y_end_plus[j]\n",
        "      Xj = x_end_plus[j]  \n",
        "      A = -(x_cp[i] - Xj)*ny[j] + (y_cp[i] - Yj)*nx[j]\n",
        "      B = (x_cp[i] - Xj)**2 + (y_cp[i] - Yj)**2\n",
        "      C = -nx[i]*ny[j] + ny[i]*nx[j]\n",
        "      D = (y_cp[i] - Yj)*ny[i] + (x_cp[i] - Xj)*nx[i]\n",
        "      E = -(x_cp[i] - Xj)*nx[j] - (y_cp[i] - Yj)*ny[j]\n",
        "      Iij = 0.5*(D - A*C)*math.log((Sj**2 + 2*A*Sj + B)/B)/E - C*(math.atan((Sj + A)/E) - math.atan(A/E))\n",
        "      sum += strength[j]*Iij/(2*math.pi)   \n",
        "  v_t[i] = sum + v_inf_t[i]     "
      ],
      "execution_count": 15,
      "outputs": []
    },
    {
      "cell_type": "code",
      "metadata": {
        "id": "oM2PQ-NODg7k"
      },
      "source": [
        "# calculating cp at each control point\n",
        "cp = np.zeros(n)\n",
        "for k in range(n):\n",
        "  cp[k] = 1 - v_t[k]**2/(v_inf_x**2 + v_inf_y**2)  "
      ],
      "execution_count": 16,
      "outputs": []
    },
    {
      "cell_type": "code",
      "metadata": {
        "colab": {
          "base_uri": "https://localhost:8080/",
          "height": 323
        },
        "id": "9nD41iIYHE2A",
        "outputId": "c28c5efc-05b1-473a-9728-04f138645087"
      },
      "source": [
        "# plotting the cp vs theta plot\n",
        "import matplotlib.pyplot as plt\n",
        "plt.plot(theta_cp, cp, color = \"green\")\n",
        "plt.title(\"Cp VALUES vs θ(radians)\", fontsize = 20)\n",
        "plt.xlabel(\"θ(radians)\", fontsize = 15)\n",
        "plt.ylabel(\"Cp\", fontsize = 15)\n",
        "plt.legend([\"n = 100\"], loc = \"lower center\")"
      ],
      "execution_count": 17,
      "outputs": [
        {
          "output_type": "execute_result",
          "data": {
            "text/plain": [
              "<matplotlib.legend.Legend at 0x7fb2ae6f6310>"
            ]
          },
          "metadata": {
            "tags": []
          },
          "execution_count": 17
        },
        {
          "output_type": "display_data",
          "data": {
            "image/png": "[encoded data removed]",
            "text/plain": [
              "<Figure size 432x288 with 1 Axes>"
            ]
          },
          "metadata": {
            "tags": [],
            "needs_background": "light"
          }
        }
      ]
    }
  ]
}